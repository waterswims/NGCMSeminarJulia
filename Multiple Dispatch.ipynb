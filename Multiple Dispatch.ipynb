{
 "cells": [
  {
   "cell_type": "code",
   "execution_count": 5,
   "metadata": {
    "collapsed": false
   },
   "outputs": [
    {
     "name": "stderr",
     "output_type": "stream",
     "text": [
      "WARNING: Method definition my_func(Any) in module Main at In[1]:2 overwritten at In[5]:2.\n",
      "WARNING: Method definition my_func(String) in module Main at In[1]:6 overwritten at In[5]:6.\n"
     ]
    },
    {
     "data": {
      "text/plain": [
       "my_func (generic function with 2 methods)"
      ]
     },
     "execution_count": 5,
     "metadata": {},
     "output_type": "execute_result"
    }
   ],
   "source": [
    "function my_func(x)\n",
    "    println(\"Hello, World\")\n",
    "end\n",
    "\n",
    "function my_func(x::String)\n",
    "    println(\"The string is \", x)\n",
    "end"
   ]
  },
  {
   "cell_type": "code",
   "execution_count": 6,
   "metadata": {
    "collapsed": false
   },
   "outputs": [
    {
     "data": {
      "text/html": [
       "2 methods for generic function <b>my_func</b>:<ul><li> my_func(x::<b>String</b>) at In[5]:6</li> <li> my_func(x) at In[5]:2</li> </ul>"
      ],
      "text/plain": [
       "# 2 methods for generic function \"my_func\":\n",
       "my_func(x::String) at In[5]:6\n",
       "my_func(x) at In[5]:2"
      ]
     },
     "execution_count": 6,
     "metadata": {},
     "output_type": "execute_result"
    }
   ],
   "source": [
    "methods(my_func)"
   ]
  },
  {
   "cell_type": "code",
   "execution_count": 7,
   "metadata": {
    "collapsed": false
   },
   "outputs": [
    {
     "name": "stdout",
     "output_type": "stream",
     "text": [
      "Hello, World\n"
     ]
    }
   ],
   "source": [
    "my_func(2)"
   ]
  },
  {
   "cell_type": "code",
   "execution_count": 8,
   "metadata": {
    "collapsed": false
   },
   "outputs": [
    {
     "name": "stdout",
     "output_type": "stream",
     "text": [
      "The string is Hello\n"
     ]
    }
   ],
   "source": [
    "my_func(\"Hello\")"
   ]
  },
  {
   "cell_type": "code",
   "execution_count": null,
   "metadata": {
    "collapsed": true
   },
   "outputs": [],
   "source": []
  }
 ],
 "metadata": {
  "anaconda-cloud": {},
  "kernelspec": {
   "display_name": "Julia 0.5.0",
   "language": "julia",
   "name": "julia-0.5"
  },
  "language_info": {
   "file_extension": ".jl",
   "mimetype": "application/julia",
   "name": "julia",
   "version": "0.5.0"
  }
 },
 "nbformat": 4,
 "nbformat_minor": 1
}
